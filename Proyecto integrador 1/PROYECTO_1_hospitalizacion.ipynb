{
  "cells": [
    {
      "cell_type": "markdown",
      "metadata": {
        "id": "4WaoEOp0KkSp"
      },
      "source": [
        "![HenryLogo](https://d31uz8lwfmyn8g.cloudfront.net/Assets/logo-henry-white-lg.png)\n",
        "\n",
        "# **Proyecto integrador**\n",
        "\n",
        "## **Planteamiento de la problemática**\n",
        "\n",
        "Hemos sido contratados en el equipo de ciencia de datos en una consultora de renombre. Nos han asignado a un proyecto de estudio de atención en salud para un importante hospital. **Nuestro cliente desea saber las características más importantes que tienen los pacientes de cierto tipo de enfermedad que terminan en hospitalización.** Fue definido como caso aquel paciente que fue sometido a biopsia prostática y que en un periodo máximo de 30 días posteriores al procedimiento presentó fiebre, infección urinaria o sepsis; requiriendo manejo médico ambulatorio u hospitalizado para la resolución de la complicación y como control al paciente que fue sometido a biopsia prostática y que no presentó complicaciones infecciosas en el período de 30 días posteriores al procedimiento. Dado que tienen en su base de datos algunos datos referentes a los pacientes y resultados de exámenes diagnósticos, de pacientes hospitalizados y no hospitalizados, nos han entregado esta información.  \n",
        "\n",
        "## Análisis exploratorio de datos de acuerdo con la descripción del dataset previo a la fase de modelamiento.\n",
        "\n",
        "El estudio tiene como objetivo la clasificación de un paciente como hospitalizado o no hospitalizado.\n",
        "\n",
        "\n"
      ]
    },
    {
      "cell_type": "code",
      "execution_count": null,
      "metadata": {},
      "outputs": [],
      "source": [
        "import numpy as np\n",
        "import pandas as pd\n",
        "import seaborn as sns\n",
        "import matplotlib.pyplot as plt\n",
        "from sklearn.preprocessing import StandardScaler\n",
        "from sklearn.linear_model import LinearRegression\n",
        "from sklearn.model_selection import  train_test_split\n",
        "from sklearn.metrics import r2_score\n",
        "from sklearn.linear_model import LogisticRegression\n",
        "from sklearn.metrics import classification_report, confusion_matrix, accuracy_score\n",
        "from sklearn.metrics import  classification_report\n"
      ]
    },
    {
      "cell_type": "markdown",
      "metadata": {
        "id": "E22GkymtLevx"
      },
      "source": [
        "Carga de base de datos y revisen el tipo de cada columna del dataset."
      ]
    },
    {
      "cell_type": "code",
      "execution_count": null,
      "metadata": {
        "id": "dlRCMYtGLqDJ"
      },
      "outputs": [],
      "source": [
        "df = pd.read_excel(r\"E:\\Repositorios y bases de datos\\Henry DS\\Módulo 6\\Proyecto_Integrador\\Propuesta 1\\BBDD_Hospitalización.xlsx\")\n",
        "df.head()"
      ]
    },
    {
      "cell_type": "markdown",
      "metadata": {},
      "source": [
        "Comprobación de la correcta carga y análisis"
      ]
    },
    {
      "cell_type": "code",
      "execution_count": null,
      "metadata": {},
      "outputs": [],
      "source": [
        "df.info()"
      ]
    },
    {
      "cell_type": "code",
      "execution_count": null,
      "metadata": {},
      "outputs": [],
      "source": [
        "df.describe()"
      ]
    },
    {
      "cell_type": "code",
      "execution_count": null,
      "metadata": {},
      "outputs": [],
      "source": [
        "df.isnull().sum()"
      ]
    },
    {
      "cell_type": "code",
      "execution_count": null,
      "metadata": {},
      "outputs": [],
      "source": [
        "df.hist()"
      ]
    },
    {
      "cell_type": "markdown",
      "metadata": {},
      "source": [
        "## Preparación de datos"
      ]
    },
    {
      "cell_type": "markdown",
      "metadata": {},
      "source": [
        "Eliminación de datos irrelevantes"
      ]
    },
    {
      "cell_type": "code",
      "execution_count": null,
      "metadata": {},
      "outputs": [],
      "source": [
        "# Aquí llevamos los valores atípicos a la mediana.\n",
        "mediana = df['EDAD'].median()\n",
        "df['EDAD'] = df['EDAD'].apply(lambda x: mediana if x > 100 else x)\n",
        "\n",
        "# Outliers\n",
        "ver_atipicos = df[df['EDAD']>100]\n",
        "ver_atipicos"
      ]
    },
    {
      "cell_type": "code",
      "execution_count": null,
      "metadata": {},
      "outputs": [],
      "source": [
        "# Eliminación de columnas irrelevantes\n",
        "drop_columns = ['DIAS HOSPITALIZACION MQ', 'DIAS HOSPITALIZACIÓN UPC']\n",
        "df = df.drop(drop_columns,axis=1)\n",
        "df[df['EDAD']==75]"
      ]
    },
    {
      "cell_type": "code",
      "execution_count": null,
      "metadata": {},
      "outputs": [],
      "source": [
        "# Eliminación de filas con datos vacios.\n",
        "df = df.dropna()\n",
        "\n",
        "# Normalización\n",
        "df['NUMERO DE DIAS POST BIOPSIA EN QUE SE PRESENTA LA COMPLICACIÓN INFECCIOSA'].replace('NO', 0, inplace=True)\n",
        "df['ENF. CRONICA PULMONAR OBSTRUCTIVA'].replace('SI, EPOC', 'SI',inplace=True)\n",
        "df['ENF. CRONICA PULMONAR OBSTRUCTIVA'].replace('SI, ASMA', 'SI',inplace=True)"
      ]
    },
    {
      "cell_type": "code",
      "execution_count": null,
      "metadata": {},
      "outputs": [],
      "source": [
        "# LLenar datos vacios en filas determinadas.\n",
        "df['VOLUMEN PROSTATICO'].fillna('NO', inplace=True)"
      ]
    },
    {
      "cell_type": "markdown",
      "metadata": {},
      "source": [
        "Verificaciones"
      ]
    },
    {
      "cell_type": "code",
      "execution_count": null,
      "metadata": {},
      "outputs": [],
      "source": [
        "df.isnull().sum()"
      ]
    },
    {
      "cell_type": "code",
      "execution_count": null,
      "metadata": {},
      "outputs": [],
      "source": [
        "df[(df['HOSPITALIZACION']!='NO')&( df['HOSPITALIZACION']!='SI')]\n",
        "df[(df['ENF. CRONICA PULMONAR OBSTRUCTIVA'] != 'SI') & (df['ENF. CRONICA PULMONAR OBSTRUCTIVA'] != 'NO')]"
      ]
    },
    {
      "cell_type": "markdown",
      "metadata": {},
      "source": [
        "Estandarización de datos"
      ]
    },
    {
      "cell_type": "code",
      "execution_count": null,
      "metadata": {},
      "outputs": [],
      "source": [
        "columnas_binarias = ['DIABETES', 'HOSPITALIZACIÓN ULTIMO MES', 'BIOPSIAS PREVIAS', \n",
        "'VOLUMEN PROSTATICO', 'CUP', 'ENF. CRONICA PULMONAR OBSTRUCTIVA', \n",
        "'FIEBRE', 'ITU', 'HOSPITALIZACION']\n",
        "\n",
        "for columna in columnas_binarias:\n",
        "    df[columna] = df[columna].map({'SI':True, 'NO':False})\n",
        "\n",
        "df.info()"
      ]
    },
    {
      "cell_type": "markdown",
      "metadata": {},
      "source": [
        "Conversión a dummies"
      ]
    },
    {
      "cell_type": "code",
      "execution_count": null,
      "metadata": {},
      "outputs": [],
      "source": [
        "columnas_dummies = ['ANTIBIOTICO UTILIAZADO EN LA PROFILAXIS', \n",
        "'TIPO DE CULTIVO', 'BIOPSIA', 'AGENTE AISLADO','PATRON DE RESISTENCIA']\n",
        "\n",
        "df = pd.get_dummies(df, columns=columnas_dummies,\n",
        "drop_first=True)\n",
        "\n",
        "df"
      ]
    },
    {
      "cell_type": "code",
      "execution_count": null,
      "metadata": {},
      "outputs": [],
      "source": [
        "#df.isnull().sum()"
      ]
    },
    {
      "cell_type": "markdown",
      "metadata": {},
      "source": [
        "Matriz de correlación"
      ]
    },
    {
      "cell_type": "code",
      "execution_count": null,
      "metadata": {},
      "outputs": [],
      "source": [
        "corr = df.corr()\n",
        "\n",
        "# Diagaramado con matplotlib y Seaborn\n",
        "plt.figure(figsize=(20,20))\n",
        "sns.heatmap(corr, cbar = True,  square = True, annot=True, fmt= '.2f',annot_kws={'size': 15},\n",
        "xticklabels= df.columns, \n",
        "yticklabels= df.columns,\n",
        "cmap= 'coolwarm')\n",
        "plt.show()"
      ]
    },
    {
      "cell_type": "markdown",
      "metadata": {},
      "source": [
        "## Entrenamiento de modelo de regresión logística"
      ]
    },
    {
      "cell_type": "code",
      "execution_count": 17,
      "metadata": {},
      "outputs": [],
      "source": [
        "# Selección\n",
        "X = df.drop('HOSPITALIZACION', axis=1)\n",
        "y = df['HOSPITALIZACION']\n",
        "\n",
        "X_train, X_test, y_train, y_test = train_test_split(X, y, test_size= 0.2, random_state=1990)"
      ]
    },
    {
      "cell_type": "code",
      "execution_count": 23,
      "metadata": {},
      "outputs": [
        {
          "name": "stdout",
          "output_type": "stream",
          "text": [
            "conteo train antes Counter({False: 416, True: 16})\n",
            "conteo train despues Counter({False: 416, True: 416})\n"
          ]
        }
      ],
      "source": [
        "# Balanceo con Smote\n",
        "smt = SMOTE()\n",
        "\n",
        "conteo_i1 = Counter(y_train)\n",
        "conteo_i1\n",
        "\n",
        "\n",
        "X_train, y_train = smt.fit_resample(X_train, y_train)\n",
        "X_test, y_test = smt.fit_resample(X_test, y_test)\n",
        "\n",
        "\n",
        "conteo_i2 = Counter(y_train)\n",
        "conteo_i2\n",
        "\n",
        "\n",
        "print(f'train antes {conteo_i1}')\n",
        "print(f'train despues {conteo_i2}')"
      ]
    },
    {
      "cell_type": "markdown",
      "metadata": {},
      "source": [
        "## Estandarización, entrenamiento y prueba"
      ]
    },
    {
      "cell_type": "code",
      "execution_count": 24,
      "metadata": {},
      "outputs": [
        {
          "name": "stdout",
          "output_type": "stream",
          "text": [
            "Resultado del la prediccion es: 0.9975961538461539\n",
            "Resultado del la prediccion real es: 0.9754901960784313\n"
          ]
        }
      ],
      "source": [
        "# Estandarización de los datos.\n",
        "scaler = StandardScaler()\n",
        "X_train = scaler.fit_transform(X_train)\n",
        "X_test = scaler.fit_transform(X_test)\n",
        "\n",
        "# Dividición y entrenamiento.\n",
        "modelo = LogisticRegression()\n",
        "modelo.fit(X_train, y_train)\n",
        "\n",
        "# Prueba de predicción.\n",
        "y_train_pred = modelo.predict(X_train)\n",
        "y_test_pred = modelo.predict(X_test)\n",
        "\n",
        "print(f'Resultado del la prediccion es: {accuracy_score(y_train, y_train_pred)}')\n",
        "print(f'Resultado del la prediccion real es: {accuracy_score(y_test, y_test_pred)}')"
      ]
    },
    {
      "cell_type": "code",
      "execution_count": 25,
      "metadata": {},
      "outputs": [
        {
          "name": "stdout",
          "output_type": "stream",
          "text": [
            "              precision    recall  f1-score   support\n",
            "\n",
            "       False       0.98      0.97      0.98       102\n",
            "        True       0.97      0.98      0.98       102\n",
            "\n",
            "    accuracy                           0.98       204\n",
            "   macro avg       0.98      0.98      0.98       204\n",
            "weighted avg       0.98      0.98      0.98       204\n",
            "\n"
          ]
        }
      ],
      "source": [
        "# Reporte de parametros\n",
        "reporte = classification_report(y_test, y_test_pred)\n",
        "print(reporte)"
      ]
    },
    {
      "cell_type": "code",
      "execution_count": 26,
      "metadata": {},
      "outputs": [
        {
          "data": {
            "text/plain": [
              "array([[ 99,   3],\n",
              "       [  2, 100]], dtype=int64)"
            ]
          },
          "execution_count": 26,
          "metadata": {},
          "output_type": "execute_result"
        }
      ],
      "source": [
        "# Matriz de confusion\n",
        "matrix = confusion_matrix(y_test, y_test_pred)\n",
        "matrix"
      ]
    }
  ],
  "metadata": {
    "colab": {
      "provenance": []
    },
    "kernelspec": {
      "display_name": "Python 3",
      "language": "python",
      "name": "python3"
    },
    "language_info": {
      "codemirror_mode": {
        "name": "ipython",
        "version": 3
      },
      "file_extension": ".py",
      "mimetype": "text/x-python",
      "name": "python",
      "nbconvert_exporter": "python",
      "pygments_lexer": "ipython3",
      "version": "3.11.9"
    },
    "orig_nbformat": 4,
    "vscode": {
      "interpreter": {
        "hash": "ae0e7af47f894f9476ada5eb18ddb08363018cc3b7dc70bce08ae16d38df8604"
      }
    }
  },
  "nbformat": 4,
  "nbformat_minor": 0
}
