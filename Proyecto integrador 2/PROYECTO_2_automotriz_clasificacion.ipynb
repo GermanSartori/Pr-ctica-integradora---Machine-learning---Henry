{
 "cells": [
  {
   "cell_type": "markdown",
   "metadata": {},
   "source": [
    "![HenryLogo](https://d31uz8lwfmyn8g.cloudfront.net/Assets/logo-henry-white-lg.png)\n",
    "\n",
    "# **Proyecto integrador 2 - modelo de clasificación**"
   ]
  },
  {
   "cell_type": "markdown",
   "metadata": {},
   "source": [
    "### **Planteamiento de la problemática**\n",
    "​\n",
    "Hemos sido contratados en el equipo de ciencias de datos en una consultora de renombre. Nos han asignado a un proyecto de estudio de mercado de una importante automotriz china. Nuestro cliente desea ingresar a nuestro mercado de automóviles, por lo que nos han encomendado analizar las características de los vehículos presentes en el mercado actual. Dado que tienen en su catálogo una amplia colección de modelos de todo tipo, cuyo catálogo está estratificado en gamas según el gusto de cada región, desean saber qué características presentan los vehículos de gama alta y los de gama baja en nuestro mercado, para poder abarcar todo los públicos objetivos ajustándose a toda la demanda y, en base a estos datos, poder cotizar correctamente los vehículos que ofrecerá. \n",
    "\n",
    "Para ello, nuestro departamento de datos ha recopilado precios y características de varios de los modelos de vehículos disponibles en nuestro mercado, junto con sus precios de venta al público.\n"
   ]
  },
  {
   "cell_type": "markdown",
   "metadata": {},
   "source": [
    "==========================================================="
   ]
  },
  {
   "cell_type": "markdown",
   "metadata": {},
   "source": [
    "Éstas son las dos predicciones que se analizarán: ​ \n",
    "\n",
    "1 Implementar un modelo de clasificación con aprendizaje supervisado que permita clasificar el precio de los vehículos en baratos y caros usando la mediana de los precios como punto de corte, utilizando los datos que se han puesto a su disposición. \n",
    "\n",
    "2 Implementar un modelo de regresión con aprendizaje supervisado que permita predecir el precio final de los vehículos, utilizando los datos que se han puesto a su disposición."
   ]
  },
  {
   "cell_type": "code",
   "execution_count": 2,
   "metadata": {},
   "outputs": [],
   "source": [
    "import pandas as pd\n",
    "import numpy as np\n",
    "import matplotlib.pyplot as plt\n",
    "import seaborn as sns\n",
    "\n",
    "from sklearn.model_selection import train_test_split\n",
    "from sklearn.linear_model import LogisticRegression \n",
    "from sklearn.linear_model import LinearRegression\n",
    "from sklearn.preprocessing import StandardScaler, OneHotEncoder\n",
    "from sklearn.compose import ColumnTransformer\n",
    "from sklearn.pipeline import Pipeline\n",
    "from sklearn.metrics import classification_report, confusion_matrix\n",
    "from sklearn.ensemble import RandomForestClassifier\n",
    "from sklearn.model_selection import cross_val_score\n"
   ]
  },
  {
   "cell_type": "markdown",
   "metadata": {},
   "source": [
    "## Carga y análisis"
   ]
  },
  {
   "cell_type": "code",
   "execution_count": null,
   "metadata": {},
   "outputs": [],
   "source": [
    "df = pd.read_csv(r\"E:\\Repositorios y bases de datos\\Henry DS\\Módulo 6\\Proyecto_Integrador\\Propuesta 2\\ML_cars.csv\")"
   ]
  },
  {
   "cell_type": "code",
   "execution_count": null,
   "metadata": {},
   "outputs": [],
   "source": [
    "df.isnull()"
   ]
  },
  {
   "cell_type": "code",
   "execution_count": null,
   "metadata": {},
   "outputs": [],
   "source": [
    "# Visualización de distribuciones y relaciones\n",
    "plt.figure(figsize=(10, 6))\n",
    "sns.histplot(df['price'], bins=20, kde=True)  \n",
    "plt.title('Distribución de Precios de Vehículos')\n",
    "plt.xlabel('Precio')\n",
    "plt.ylabel('Frecuencia')\n",
    "plt.show()"
   ]
  },
  {
   "cell_type": "code",
   "execution_count": null,
   "metadata": {},
   "outputs": [],
   "source": [
    "# Visualización de las relaciones entre variables\n",
    "plt.figure(figsize=(10, 8))\n",
    "sns.scatterplot(x='enginesize', y='horsepower', data=df, hue='fueltype')\n",
    "plt.title('Relación entre Tamaño del Motor y Potencia por Tipo de Combustible')\n",
    "plt.xlabel('Tamaño del Motor')\n",
    "plt.ylabel('Potencia')\n",
    "plt.show()"
   ]
  },
  {
   "cell_type": "markdown",
   "metadata": {},
   "source": [
    "## Transformaciones"
   ]
  },
  {
   "cell_type": "code",
   "execution_count": null,
   "metadata": {},
   "outputs": [],
   "source": [
    "columnas_dummies = ['enginetype', 'fueltype', 'aspiration', 'carbody', 'drivewheel', 'enginelocation', 'fuelsystem']\n",
    "datos = pd.get_dummies(df, columns=columnas_dummies, drop_first=True)\n",
    "\n",
    "datos"
   ]
  },
  {
   "cell_type": "code",
   "execution_count": null,
   "metadata": {},
   "outputs": [],
   "source": [
    "datos = datos.drop(columns=['car_ID', 'CarName'])"
   ]
  },
  {
   "cell_type": "code",
   "execution_count": null,
   "metadata": {},
   "outputs": [],
   "source": [
    "# Alta o baja según la mediana\n",
    "median_price = datos['price'].median()\n",
    "datos['gama'] = datos['price'].apply(lambda x: 'Alta' if x > median_price else 'Baja')\n"
   ]
  },
  {
   "cell_type": "code",
   "execution_count": null,
   "metadata": {},
   "outputs": [],
   "source": [
    "print(datos.columns)"
   ]
  },
  {
   "cell_type": "markdown",
   "metadata": {},
   "source": [
    "## 1) MODELO DE CLASIFICACIÓN"
   ]
  },
  {
   "cell_type": "code",
   "execution_count": null,
   "metadata": {},
   "outputs": [],
   "source": [
    "# Definición de la mediana de los precios\n",
    "median_price = df['price'].median()\n",
    "\n",
    "datos['price_category'] = np.where(datos['price'] <= median_price, 'barato', 'caro')\n",
    "\n",
    "# Configuración de train\n",
    "X_train = datos.drop('price_category', axis=1)  \n",
    "y_train = datos['price_category']\n",
    "\n",
    "\n",
    "print(y_train.unique()) "
   ]
  },
  {
   "cell_type": "code",
   "execution_count": null,
   "metadata": {},
   "outputs": [],
   "source": [
    "X_train_encoded = pd.get_dummies(X_train)\n",
    "\n",
    "# Entrenamiento\n",
    "model = RandomForestClassifier(random_state=42)\n",
    "\n",
    "# SE PROCEDE A REALIZAR VALIDACIÓN CRUZADA YA QUE LOS RESULTADOS OBTENIDOS SUGERÍAN OVERFITTING\n",
    "scores = cross_val_score(model, X_train_encoded, y_train, cv=5)\n",
    "\n",
    "print(\"Puntajes de precisión por pliegue:\", scores)\n",
    "print(\"Precisión media:\", scores.mean())"
   ]
  }
 ],
 "metadata": {
  "kernelspec": {
   "display_name": "Python 3",
   "language": "python",
   "name": "python3"
  },
  "language_info": {
   "codemirror_mode": {
    "name": "ipython",
    "version": 3
   },
   "file_extension": ".py",
   "mimetype": "text/x-python",
   "name": "python",
   "nbconvert_exporter": "python",
   "pygments_lexer": "ipython3",
   "version": "3.11.9"
  }
 },
 "nbformat": 4,
 "nbformat_minor": 2
}
